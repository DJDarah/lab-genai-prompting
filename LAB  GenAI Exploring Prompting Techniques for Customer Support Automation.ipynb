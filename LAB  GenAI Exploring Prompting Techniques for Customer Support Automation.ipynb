{
 "cells": [
  {
   "cell_type": "markdown",
   "metadata": {
    "vscode": {
     "languageId": "plaintext"
    }
   },
   "source": [
    "# LAB | GenAI: Exploring Prompting Techniques for Customer Support Automation"
   ]
  },
  {
   "cell_type": "markdown",
   "metadata": {},
   "source": [
    "## Tasks\n",
    "\n",
    "**Objective:**\n",
    "\n",
    "Learn and apply different prompting techniques to improve the performance of a language model in generating customer support responses.\n",
    "\n",
    "**Business Case:**\n",
    "\n",
    "Imagine you are working for a company that provides a variety of services, including technical support, billing inquiries, and general customer service. Your task is to use a language model to automate responses to customer emails.\n",
    "\n",
    "**Dataset:**\n",
    "\n",
    "Download the FAQ of a company to do this exercise. Below you have a couple of examples, but feel free to find your own:\n",
    " - https://info.undp.org/erecruit/documents/FAQ.pdf\n",
    " - https://www.cambridgeenglish.org/Images/696254-faqs-digital-cambridge-english-qualifications.pdf\n",
    " - https://www.wscc.nt.ca/sites/default/files/documents/0009-518-Item-04-INDESIGN-FAQ-Template%203%20-%20MINUS%20FIRST%20QUESTION.pdf\n",
    "\n",
    "\n",
    "### Task 1\n",
    "\n",
    "Download and Read the PDF:\n",
    "\n",
    "  - Choose one of the provided FAQ PDFs or find your own relevant FAQ document.\n",
    "  - Read through the FAQ document carefully to understand the types of questions and answers it contains.\n",
    "  - Create Questions Based on the PDF ( you can use ChatGPT for this)\n",
    "    - Generate a list of potential customer questions that could be answered using the information from the FAQ PDF.\n",
    "    - Ensure your questions cover a variety of topics and difficulty levels found within the document.\n",
    "    - Generate Responses Using Different Prompting Techniques:\n",
    "\n",
    "Use a language model (such as ChatGPT) to generate responses to your questions.\n",
    "Experiment with different prompting techniques to see how they affect the quality of the responses."
   ]
  },
  {
   "cell_type": "markdown",
   "metadata": {},
   "source": [
    "## Types of prompting\n",
    "\n",
    "For each of the types prompting, perform the following:\n",
    " - Research what the type of prompting is\n",
    " - Create a small explaination of the prompting\n",
    " - Test your type of prompting vs the control prompt (direct question)"
   ]
  },
  {
   "cell_type": "markdown",
   "metadata": {
    "vscode": {
     "languageId": "plaintext"
    }
   },
   "source": [
    "### Zero-Shot Prompting\n",
    "\n",
    "Use the knowledge base to create prompts without examples.\n",
    "Test the model's ability to generate accurate responses based solely on the provided instructions.\n",
    "Assess the performance compared to few-shot prompting."
   ]
  },
  {
   "cell_type": "code",
   "execution_count": null,
   "metadata": {},
   "outputs": [],
   "source": [
    "Zero-shot prompting means asking the model a question without any examples or prior training on how to answer. The model relies only on its general knowledge and instructions.\n",
    "\n",
    "Example Question:\n",
    "\"Can I transfer my ferry ticket to another date?\"\n",
    "\n",
    "Direct Question Answer:\n",
    "\"Yes, tickets can be transferred up to two times if requested at least one hour before departure.\"\n",
    "\n",
    "Zero-Shot Prompting Answer:\n",
    "\"Ferry tickets can be modified, but it depends on the company’s policy. Some operators allow ticket transfers within a certain timeframe before departure. It’s best to check with the ferry provider for details.\"\n",
    "\n",
    "Comparison:\n",
    "\n",
    "The direct question answer is accurate and based on the Puerto Rico Ferry FAQ.\n",
    "The zero-shot answer is vague and non-specific, suggesting checking with the provider instead of giving a clear policy.\n",
    "Conclusion:\n",
    "Zero-shot prompting is not ideal for customer support since it may generate generic responses rather than precise information from the FAQ.\n",
    "\n"
   ]
  },
  {
   "cell_type": "markdown",
   "metadata": {
    "vscode": {
     "languageId": "plaintext"
    }
   },
   "source": [
    "### Few-Shot Prompting\n",
    "\n",
    "Select a few representative emails from each category.\n",
    "Create prompts by including these examples and ask the model to generate responses for new emails.\n",
    "Evaluate the quality and relevance of the responses."
   ]
  },
  {
   "cell_type": "code",
   "execution_count": null,
   "metadata": {},
   "outputs": [],
   "source": [
    "Explanation:\n",
    "Few-shot prompting provides examples before asking the question, helping the model understand the expected response style and format.\n",
    "\n",
    "Example Question:\n",
    "\"How much are the tickets?\"\n",
    "\n",
    "Direct Question Answer:\n",
    "\"Ticket prices vary depending on the route and availability. Please check our website for the most up-to-date prices.\"\n",
    "\n",
    "Few-Shot Prompt:\n",
    "*\"Example 1:\n",
    "Customer: 'How long is the ferry ride?'\n",
    "AI: 'The ferry ride from Ceiba to Vieques takes approximately 30 minutes.'\n",
    "\n",
    "Example 2:\n",
    "Customer: 'Are pets allowed on board?'\n",
    "AI: 'Only service animals with proper documentation are allowed.'\n",
    "\n",
    "Now, answer this: 'How much are the tickets?'\"*\n",
    "\n",
    "Few-Shot Prompting Answer:\n",
    "\"Ticket prices vary based on the destination and availability. General admission starts at $25, while premium seating may cost more. Please visit our website or mobile app for current prices.\"\n",
    "\n",
    "Comparison:\n",
    "\n",
    "The direct answer is correct but short.\n",
    "The few-shot answer follows a structured format and mimics previous examples.\n",
    "Conclusion:\n",
    "Few-shot prompting improves response consistency by training the model on example formats before answering."
   ]
  },
  {
   "cell_type": "markdown",
   "metadata": {},
   "source": [
    "### Chain of Thought Prompting\n",
    "\n",
    "Develop prompts that guide the model to think through the problem step-by-step before providing the final answer.\n",
    "Analyze if this approach improves the quality of technical support responses.\n"
   ]
  },
  {
   "cell_type": "code",
   "execution_count": null,
   "metadata": {},
   "outputs": [],
   "source": [
    "Explanation:\n",
    "Chain-of-thought prompting asks the model to explain its reasoning step-by-step before giving an answer. This method improves logical accuracy and helps with complex reasoning.\n",
    "\n",
    "Example Question:\n",
    "\"Can I transfer my ferry ticket?\"\n",
    "\n",
    "Direct Question Answer:\n",
    "\"Yes, tickets can be transferred up to two times if requested at least one hour before departure.\"\n",
    "\n",
    "Chain-of-Thought Prompt:\n",
    "\"Think step by step: First, determine if ticket transfers are allowed. Next, check if there are restrictions on transfers. Finally, provide a clear answer with the conditions.\"\n",
    "\n",
    "Chain-of-Thought Answer:\n",
    "\"Ferry tickets are sometimes transferable, depending on the company's policy. According to Puerto Rico Ferry's terms, tickets can be transferred, but only up to two times. Additionally, the transfer must be requested at least one hour before departure. Therefore, yes, you can transfer your ferry ticket, provided these conditions are met.\"\n",
    "\n",
    "Comparison:\n",
    "\n",
    "The direct answer is quick and precise.\n",
    "The chain-of-thought answer walks through the reasoning process, improving clarity.\n",
    "Conclusion:\n",
    "Chain-of-thought prompting is useful for complex policies or questions that require multi-step reasoning."
   ]
  },
  {
   "cell_type": "markdown",
   "metadata": {},
   "source": [
    "### Instruction-Based Prompting\n",
    "\n",
    "Write clear and explicit instructions in the prompts for each type of customer inquiry.\n",
    "Measure the effectiveness of detailed instructions in guiding the model."
   ]
  },
  {
   "cell_type": "code",
   "execution_count": null,
   "metadata": {},
   "outputs": [],
   "source": [
    "Explanation:\n",
    "Instruction-based prompting explicitly tells the model how to answer the question by providing clear rules or constraints for its response.\n",
    "\n",
    "Example Question:\n",
    "\"What happens if I miss my ferry?\"\n",
    "\n",
    "Direct Question Answer:\n",
    "\"If you miss your ferry, you will need to purchase a new ticket. Ticket transfers must be made at least one hour before departure.\"\n",
    "\n",
    "Instruction-Based Prompt:\n",
    "\"Answer in two sentences using formal language. Provide the official policy on missed ferries.\"\n",
    "\n",
    "Instruction-Based Prompting Answer:\n",
    "\"If a passenger misses their ferry, they must purchase a new ticket. Ticket transfers are only allowed if the request is made at least one hour before departure.\"\n",
    "\n",
    "Comparison:\n",
    "\n",
    "The direct answer is informative but without a structured constraint.\n",
    "The instruction-based answer follows clear guidelines, ensuring brevity and formality.\n",
    "Conclusion:\n",
    "Instruction-based prompting is helpful when controlling the format, length, or tone of responses, ensuring consistency."
   ]
  },
  {
   "cell_type": "markdown",
   "metadata": {},
   "source": [
    "### Role-Playing Prompting\n",
    "\n",
    "Ask the model to respond as a customer service representative or technical support expert.\n",
    "Evaluate how well the model adopts the role and provides relevant information."
   ]
  },
  {
   "cell_type": "code",
   "execution_count": null,
   "metadata": {},
   "outputs": [],
   "source": [
    "Explanation:\n",
    "Role-based prompting asks the model to assume a specific role, such as a customer service representative, which helps structure responses professionally.\n",
    "\n",
    "Example Question:\n",
    "\"How much are the tickets?\"\n",
    "\n",
    "Direct Question Answer:\n",
    "\"Ticket prices vary depending on the route and availability. Please check our website for the most up-to-date prices.\"\n",
    "\n",
    "Role-Based Prompting Answer:\n",
    "\"As a customer service representative for Puerto Rico Ferry, I can confirm that ticket prices vary based on the route and availability. For the most accurate pricing, please visit our website or purchase tickets through our mobile app.\"\n",
    "\n",
    "Comparison:\n",
    "\n",
    "The direct answer is concise but informative.\n",
    "The role-based answer is more structured and formal, making it sound like an official response.\n",
    "Conclusion:\n",
    "Role-based prompting helps create more professional and authoritative responses, improving customer trust."
   ]
  },
  {
   "cell_type": "markdown",
   "metadata": {},
   "source": [
    "### Contextual Prompting\n",
    "\n",
    "Provide relevant context from previous email threads or the knowledge base before posing the main question.\n",
    "Test if providing context improves the accuracy and relevance of the responses."
   ]
  },
  {
   "cell_type": "code",
   "execution_count": null,
   "metadata": {},
   "outputs": [],
   "source": [
    "Explanation:\n",
    "Contextual prompting provides relevant background information before asking the question. This helps the model generate more accurate and FAQ-specific responses.\n",
    "\n",
    "Example Question:\n",
    "\"Can I buy my ticket online in advance?\"\n",
    "\n",
    "Direct Question Answer:\n",
    "\"Yes, tickets can be purchased online, via the mobile app, or at the terminal. Non-residents have limited online ticket availability.\"\n",
    "\n",
    "Contextual Prompting Answer (with FAQ context):\n",
    "\"According to our ticketing policy, advance ticket purchases are available through our website and mobile app. Non-residents have limited online ticket availability, while residents can purchase in advance with proof of residency. It is recommended to arrive one hour before departure.\"\n",
    "\n",
    "Comparison:\n",
    "\n",
    "The direct answer is correct but slightly shorter.\n",
    "The contextual prompting answer is more detailed and includes additional relevant policies.\n",
    "Conclusion:\n",
    "Contextual prompting improves response quality by ensuring the model has direct access to the FAQ content before answering.\n",
    "\n"
   ]
  },
  {
   "cell_type": "markdown",
   "metadata": {},
   "source": [
    "### Conversational Prompting\n",
    "\n",
    "Create a dialogue-style prompt where the model continues an ongoing conversation with the customer.\n",
    "Observe how well the model maintains context and coherence in multi-turn conversations."
   ]
  },
  {
   "cell_type": "code",
   "execution_count": null,
   "metadata": {},
   "outputs": [],
   "source": [
    "Explanation:\n",
    "Conversational prompting creates a dialogue-style interaction where the AI maintains context over multiple turns.\n",
    "\n",
    "Example Question:\n",
    "\"Are service animals allowed on the ferry?\"\n",
    "\n",
    "Direct Question Answer:\n",
    "\"Yes, service animals are allowed on the ferry, but they must have proper documentation and wear the required service attire.\"\n",
    "\n",
    "Conversational Prompting Answer:\n",
    "Customer: \"Are service animals allowed on the ferry?\"\n",
    "AI: \"Yes, service animals are allowed. Do you need information on documentation requirements?\"\n",
    "Customer: \"Yes, what do I need to bring?\"\n",
    "AI: \"You’ll need to provide official documentation showing that your animal is a trained service animal. Additionally, they must wear the appropriate service attire.\"\n",
    "\n",
    "Comparison:\n",
    "\n",
    "The direct answer is immediate and complete.\n",
    "The conversational approach engages the user, allowing follow-up questions for clarity.\n",
    "Conclusion:\n",
    "Conversational prompting is ideal for interactive customer service scenarios where users may need more details or personalized responses.\n",
    "\n"
   ]
  },
  {
   "cell_type": "markdown",
   "metadata": {},
   "source": [
    "### Contrastive Prompting\n",
    "\n",
    "Show the model examples of both good and bad responses.\n",
    "Use these contrasting examples to guide the model towards generating better responses.\n",
    "Compare the results with other techniques."
   ]
  },
  {
   "cell_type": "code",
   "execution_count": null,
   "metadata": {},
   "outputs": [],
   "source": [
    "Explanation:\n",
    "Contrastive prompting provides both good and bad responses to guide the model toward generating higher-quality answers.\n",
    "\n",
    "Example Question:\n",
    "\"What happens if I miss my ferry?\"\n",
    "\n",
    "Direct Question Answer:\n",
    "\"If you miss your ferry, you will need to purchase a new ticket. Ticket transfers must be made at least one hour before departure.\"\n",
    "\n",
    "Contrastive Prompting Setup:\n",
    "Bad response: \"I don’t know, check the website.\"\n",
    "Good response: \"If a passenger misses their ferry, they will need to purchase a new ticket. Tickets can be transferred up to two times if done at least one hour before departure.\"\n",
    "\n",
    "Contrastive Prompting Answer:\n",
    "\"If you miss your ferry, you will need to buy a new ticket. However, you can transfer your ticket up to two times if you request the change at least one hour before departure. Please visit our ticketing office or website for more details.\"\n",
    "\n",
    "Comparison:\n",
    "\n",
    "The direct answer is accurate but slightly shorter.\n",
    "The contrastive answer is more structured and includes the best elements of the good response.\n",
    "Conclusion:\n",
    "Contrastive prompting helps ensure that responses avoid poor wording and meet quality standards.\n",
    "\n"
   ]
  },
  {
   "cell_type": "markdown",
   "metadata": {},
   "source": [
    "### Specificity Prompting\n",
    "\n",
    "Ask the model to respond with a specific style, tone, or level of detail, such as formal, friendly, or concise.\n",
    "Assess how well the model adapts its responses to the specified requirements."
   ]
  },
  {
   "cell_type": "code",
   "execution_count": null,
   "metadata": {},
   "outputs": [],
   "source": [
    "Explanation:\n",
    "Specificity prompting asks the AI to respond with a defined style or tone, such as formal, friendly, or concise.\n",
    "\n",
    "Example Question:\n",
    "\"Can I buy my ticket online in advance?\"\n",
    "\n",
    "Direct Question Answer:\n",
    "\"Yes, tickets can be purchased online, via the mobile app, or at the terminal.\"\n",
    "\n",
    "Specificity Prompting Answer (Friendly Tone):\n",
    "\"Absolutely! You can grab your ferry tickets online or through our app, making your travel experience super convenient. Just keep in mind that non-residents have limited online ticket availability, so plan ahead!\"\n",
    "\n",
    "Comparison:\n",
    "\n",
    "The direct answer is neutral and factual.\n",
    "The specificity-prompted answer is more engaging and customer-friendly.\n",
    "Conclusion:\n",
    "Specificity prompting allows customization of responses based on brand voice or audience preferences.\n",
    "\n"
   ]
  },
  {
   "cell_type": "markdown",
   "metadata": {},
   "source": [
    "### Iterative Refinement Prompting\n",
    "\n",
    "Ask the model to refine or improve upon its previous response.\n",
    "Experiment with multiple iterations to see if responses improve over time."
   ]
  },
  {
   "cell_type": "markdown",
   "metadata": {},
   "source": [
    "Explanation:\n",
    "Iterative refinement prompting asks the AI to improve upon a previous response, making it more complete and polished.\n",
    "\n",
    "Example Question:\n",
    "\"Can I transfer my ferry ticket?\"\n",
    "\n",
    "Initial AI Response:\n",
    "\"Yes, tickets can be transferred.\"\n",
    "\n",
    "Refined AI Response:\n",
    "\"Yes, ferry tickets can be transferred up to two times, as long as the request is made at least one hour before departure. Please visit our website or contact our ticketing office for assistance.\"\n",
    "\n",
    "Comparison:\n",
    "\n",
    "The initial response is correct but too vague.\n",
    "The refined response includes important details for better clarity.\n",
    "Conclusion:\n",
    "Iterative refinement prompting is useful when fine-tuning AI-generated responses to meet higher quality standards."
   ]
  }
 ],
 "metadata": {
  "kernelspec": {
   "display_name": "Python 3 (ipykernel)",
   "language": "python",
   "name": "python3"
  },
  "language_info": {
   "codemirror_mode": {
    "name": "ipython",
    "version": 3
   },
   "file_extension": ".py",
   "mimetype": "text/x-python",
   "name": "python",
   "nbconvert_exporter": "python",
   "pygments_lexer": "ipython3",
   "version": "3.12.7"
  }
 },
 "nbformat": 4,
 "nbformat_minor": 4
}
